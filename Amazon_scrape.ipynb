{
  "nbformat": 4,
  "nbformat_minor": 0,
  "metadata": {
    "colab": {
      "name": "Amazon_scrape.ipynb",
      "provenance": [],
      "collapsed_sections": [],
      "authorship_tag": "ABX9TyNqxn+F1Bq+SqwiY//Gld+v",
      "include_colab_link": true
    },
    "kernelspec": {
      "name": "python3",
      "display_name": "Python 3"
    }
  },
  "cells": [
    {
      "cell_type": "markdown",
      "metadata": {
        "id": "view-in-github",
        "colab_type": "text"
      },
      "source": [
        "<a href=\"https://colab.research.google.com/github/MertIV/hello-world/blob/master/Amazon_scrape.ipynb\" target=\"_parent\"><img src=\"https://colab.research.google.com/assets/colab-badge.svg\" alt=\"Open In Colab\"/></a>"
      ]
    },
    {
      "cell_type": "code",
      "metadata": {
        "id": "PJYR6L3aQnF8",
        "colab_type": "code",
        "colab": {}
      },
      "source": [
        "import requests # required for HTTP requests: pip install requests\n",
        "from bs4 import BeautifulSoup  # required for HTML and XML parsing: pip install beautifulsoup4\n",
        "import pandas as pd # required for getting the data in dataframes : pip install pandas\n",
        "import time # to time the requests\n",
        "from multiprocessing import Manager,Process, Queue, Pool\n",
        "import threading\n",
        "import sys"
      ],
      "execution_count": 0,
      "outputs": []
    },
    {
      "cell_type": "code",
      "metadata": {
        "id": "z6TVSBj0Qx0u",
        "colab_type": "code",
        "colab": {}
      },
      "source": [
        "proxies = { # define the proxies which you want to use\n",
        "  'http': 'http://195.22.121.13:443',\n",
        "  'https': 'http://195.22.121.13:443',\n",
        "}\n",
        "startTime = time.time()\n",
        "qcount = 0 # the count in queue used to track the elements in queue\n",
        "products=[] # List to store name of the product\n",
        "prices=[] # List to store price of the product\n",
        "ratings=[] # List to store ratings of the product\n",
        "no_pages = 9 # no of pages to scrape in the website (provide it via arguments)"
      ],
      "execution_count": 0,
      "outputs": []
    },
    {
      "cell_type": "code",
      "metadata": {
        "id": "a4mIXGJSQ4sa",
        "colab_type": "code",
        "colab": {}
      },
      "source": [
        "def get_data(pageNo,q):\n",
        "    headers = {\"User-Agent\":\"Mozilla/5.0 (Windows NT 10.0; Win64;     x64; rv:66.0) Gecko/20100101 Firefox/66.0\", \"Accept-Encoding\":\"gzip, deflate\",     \"Accept\":\"text/html,application/xhtml+xml,application/xml;q=0.9,*/*;q=0.8\", \"DNT\":\"1\",\"Connection\":\"close\", \"Upgrade-Insecure-Requests\":\"1\"}\n",
        "    r = requests.get(\"https://www.amazon.com/s?k=laptops&page=\"+str(pageNo), headers=headers)#,proxies=proxies)\n",
        "    content = r.content\n",
        "    soup = BeautifulSoup(content)\n",
        "\n",
        "    for d in soup.findAll('div', attrs={'class':'sg-col-4-of-12 sg-col-8-of-16 sg-col-16-of-24 sg-col-12-of-20 sg-col-24-of-32 sg-col sg-col-28-of-36 sg-col-20-of-28'}):\n",
        "            name = d.find('span', attrs={'class':'a-size-medium a-color-base a-text-normal'})\n",
        "            price = d.find('span', attrs={'class':'a-offscreen'})\n",
        "            rating = d.find('span', attrs={'class':'a-icon-alt'})\n",
        "            all=[]\n",
        "    if name is not None:\n",
        "      all.append(name.text)\n",
        "    else:\n",
        "      all.append(\"unknown-product\")\n",
        "    if price is not None:\n",
        "      all.append(price.text)\n",
        "    else:\n",
        "      all.append('$0')\n",
        "    if rating is not None:\n",
        "    #print(rating.text)\n",
        "      all.append(rating.text)\n",
        "    else:\n",
        "      all.append('-1')\n",
        "      q.put(all)\n",
        "      print(\"---------------------------------------------------------------\")\n",
        "    results = []"
      ],
      "execution_count": 0,
      "outputs": []
    },
    {
      "cell_type": "code",
      "metadata": {
        "id": "ly3iUlUHQ9_Q",
        "colab_type": "code",
        "colab": {
          "base_uri": "https://localhost:8080/",
          "height": 151
        },
        "outputId": "6263cef5-28db-436b-b373-0a0335e986f1"
      },
      "source": [
        "if __name__ == \"__main__\":\n",
        "    m = Manager()\n",
        "    q = m.Queue()\n",
        "    p = {}\n",
        "    if sys.argv[1] in ['t', 'p']:\n",
        "        for i in range(1,no_pages):\n",
        "            if sys.argv[1] in ['t']:\n",
        "                print(\"starting thread: \",i)\n",
        "                p[i] = threading.Thread(target=get_data, args=(i,q))\n",
        "                p[i].start()\n",
        "            elif sys.argv[1] in ['p']:\n",
        "                print(\"starting process: \",i)\n",
        "                p[i] = Process(target=get_data, args=(i,q))\n",
        "                p[i].start()\n",
        "        for i in range(1,no_pages): # join all the threads/processes\n",
        "            p[i].join()\n",
        "    else:\n",
        "        pool_tuple = [(x,q) for x in range(1,no_pages)]\n",
        "        with Pool(processes=8) as pool:\n",
        "            print(\"in pool\")\n",
        "            results = pool.starmap(get_data, pool_tuple)\n",
        "        print(results)\n",
        "    while q.empty() is not True:\n",
        "            qcount = qcount+1\n",
        "            queue_top = q.get()\n",
        "            products.append(queue_top[0])\n",
        "            prices.append(queue_top[1])\n",
        "            ratings.append(queue_top[2])\n",
        "\n",
        "    print(\"total time taken: \", str(time.time()-startTime), \" qcount: \", qcount)\n",
        "    df = pd.DataFrame({'Product Name':products, 'Price':prices, 'Ratings':ratings})\n",
        "    df.to_csv('products.csv', index=False, encoding='utf-8')"
      ],
      "execution_count": 12,
      "outputs": [
        {
          "output_type": "stream",
          "text": [
            "in pool\n",
            "---------------------------------------------------------------\n",
            "---------------------------------------------------------------\n",
            "---------------------------------------------------------------\n",
            "---------------------------------------------------------------\n",
            "---------------------------------------------------------------\n",
            "[None, None, None, None, None, None, None, None]\n",
            "total time taken:  498.8915147781372  qcount:  5\n"
          ],
          "name": "stdout"
        }
      ]
    },
    {
      "cell_type": "code",
      "metadata": {
        "id": "Anx0U4_HSL-s",
        "colab_type": "code",
        "colab": {}
      },
      "source": [
        "while q.empty() is not True:\n",
        "        qcount = qcount+1\n",
        "        queue_top = q.get()\n",
        "        products.append(queue_top[0])\n",
        "        prices.append(queue_top[1])\n",
        "        ratings.append(queue_top[2])"
      ],
      "execution_count": 0,
      "outputs": []
    },
    {
      "cell_type": "code",
      "metadata": {
        "id": "dGDnmZIlTApX",
        "colab_type": "code",
        "colab": {
          "base_uri": "https://localhost:8080/",
          "height": 195
        },
        "outputId": "50326130-1392-4078-8639-e05b405525c7"
      },
      "source": [
        "df"
      ],
      "execution_count": 14,
      "outputs": [
        {
          "output_type": "execute_result",
          "data": {
            "text/html": [
              "<div>\n",
              "<style scoped>\n",
              "    .dataframe tbody tr th:only-of-type {\n",
              "        vertical-align: middle;\n",
              "    }\n",
              "\n",
              "    .dataframe tbody tr th {\n",
              "        vertical-align: top;\n",
              "    }\n",
              "\n",
              "    .dataframe thead th {\n",
              "        text-align: right;\n",
              "    }\n",
              "</style>\n",
              "<table border=\"1\" class=\"dataframe\">\n",
              "  <thead>\n",
              "    <tr style=\"text-align: right;\">\n",
              "      <th></th>\n",
              "      <th>Product Name</th>\n",
              "      <th>Price</th>\n",
              "      <th>Ratings</th>\n",
              "    </tr>\n",
              "  </thead>\n",
              "  <tbody>\n",
              "    <tr>\n",
              "      <th>0</th>\n",
              "      <td>ASUS VivoBook Flip 2020 11.6\" Touch Screen 2-i...</td>\n",
              "      <td>$306.99</td>\n",
              "      <td>-1</td>\n",
              "    </tr>\n",
              "    <tr>\n",
              "      <th>1</th>\n",
              "      <td>2020 ASUS VivoBook 15 15.6\" FHD Laptop Compute...</td>\n",
              "      <td>$429.00</td>\n",
              "      <td>-1</td>\n",
              "    </tr>\n",
              "    <tr>\n",
              "      <th>2</th>\n",
              "      <td>ASUS VivoBook Flip 2020 11.6\" Touch Screen 2-i...</td>\n",
              "      <td>$306.99</td>\n",
              "      <td>-1</td>\n",
              "    </tr>\n",
              "    <tr>\n",
              "      <th>3</th>\n",
              "      <td>2020 ASUS VivoBook 15 15.6\" FHD Laptop Compute...</td>\n",
              "      <td>$429.00</td>\n",
              "      <td>-1</td>\n",
              "    </tr>\n",
              "    <tr>\n",
              "      <th>4</th>\n",
              "      <td>2020 ASUS VivoBook 15 15.6\" FHD Laptop Compute...</td>\n",
              "      <td>$429.00</td>\n",
              "      <td>-1</td>\n",
              "    </tr>\n",
              "  </tbody>\n",
              "</table>\n",
              "</div>"
            ],
            "text/plain": [
              "                                        Product Name    Price Ratings\n",
              "0  ASUS VivoBook Flip 2020 11.6\" Touch Screen 2-i...  $306.99      -1\n",
              "1  2020 ASUS VivoBook 15 15.6\" FHD Laptop Compute...  $429.00      -1\n",
              "2  ASUS VivoBook Flip 2020 11.6\" Touch Screen 2-i...  $306.99      -1\n",
              "3  2020 ASUS VivoBook 15 15.6\" FHD Laptop Compute...  $429.00      -1\n",
              "4  2020 ASUS VivoBook 15 15.6\" FHD Laptop Compute...  $429.00      -1"
            ]
          },
          "metadata": {
            "tags": []
          },
          "execution_count": 14
        }
      ]
    },
    {
      "cell_type": "code",
      "metadata": {
        "id": "Y-DxRBOTTFcs",
        "colab_type": "code",
        "colab": {}
      },
      "source": [
        ""
      ],
      "execution_count": 0,
      "outputs": []
    }
  ]
}