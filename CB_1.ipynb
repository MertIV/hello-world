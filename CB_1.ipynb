{
  "nbformat": 4,
  "nbformat_minor": 0,
  "metadata": {
    "colab": {
      "name": "CB_1.ipynb",
      "provenance": [],
      "authorship_tag": "ABX9TyPnhEoLdIdJuU3mOVft3oqa",
      "include_colab_link": true
    },
    "kernelspec": {
      "name": "python3",
      "display_name": "Python 3"
    }
  },
  "cells": [
    {
      "cell_type": "markdown",
      "metadata": {
        "id": "view-in-github",
        "colab_type": "text"
      },
      "source": [
        "<a href=\"https://colab.research.google.com/github/MertIV/hello-world/blob/master/CB_1.ipynb\" target=\"_parent\"><img src=\"https://colab.research.google.com/assets/colab-badge.svg\" alt=\"Open In Colab\"/></a>"
      ]
    },
    {
      "cell_type": "code",
      "metadata": {
        "id": "9q4mlkv8XOyg",
        "colab_type": "code",
        "outputId": "cc095220-77bd-459b-c319-e3fcd832f545",
        "colab": {
          "base_uri": "https://localhost:8080/",
          "height": 34
        }
      },
      "source": [
        "import time\n",
        "\n",
        "def respond(message):\n",
        "    print(\"I can hear you say {}\".format(message))\n",
        "\n",
        "def send_message(message):\n",
        "    time.sleep(0.5)\n",
        "    respond(message)\n",
        "\n",
        "\n",
        "send_message(\"Hello !\")"
      ],
      "execution_count": 0,
      "outputs": [
        {
          "output_type": "stream",
          "text": [
            "I can hear you say Hello !\n"
          ],
          "name": "stdout"
        }
      ]
    },
    {
      "cell_type": "markdown",
      "metadata": {
        "id": "Q_wJe6YX3OzG",
        "colab_type": "text"
      },
      "source": [
        "### Phase 2 "
      ]
    },
    {
      "cell_type": "code",
      "metadata": {
        "id": "GGip3g2yYK6j",
        "colab_type": "code",
        "colab": {
          "base_uri": "https://localhost:8080/",
          "height": 34
        },
        "outputId": "f4a2a52b-dde5-4656-b244-98d8a57c45e5"
      },
      "source": [
        "import random\n",
        "\n",
        "name_Bot = \"Levi\"\n",
        "weather_Bot = \"sunny\"\n",
        "\n",
        "responses = {\n",
        "    \"What is your name ?\" : [\"My name is {}\".format(name_Bot),\n",
        "                            \"They call me {}\".format(name_Bot),\n",
        "                            \"It might be {},I'm not sure\".format(name_Bot)],\n",
        "    \"How is the weather today\" : \"Today seems like a bit {}\".format(weather_Bot),\n",
        "    \"default\" : \"I don't know what to say !?\"\n",
        "}\n",
        "\n",
        "def respond(message):\n",
        "    if message in responses:\n",
        "        return random.choice(responses[message])\n",
        "    else:\n",
        "        return responses[\"default\"]\n",
        "\n",
        "respond(\"What is your name ?\")\n",
        "#respond(\"How is the weather today\")"
      ],
      "execution_count": 15,
      "outputs": [
        {
          "output_type": "execute_result",
          "data": {
            "text/plain": [
              "\"It might be Levi,I'm not sure\""
            ]
          },
          "metadata": {
            "tags": []
          },
          "execution_count": 15
        }
      ]
    },
    {
      "cell_type": "markdown",
      "metadata": {
        "id": "yaNZ2PnJ3HMe",
        "colab_type": "text"
      },
      "source": [
        "### Regular - Expresions"
      ]
    },
    {
      "cell_type": "code",
      "metadata": {
        "id": "-zKdB9exoW79",
        "colab_type": "code",
        "colab": {
          "base_uri": "https://localhost:8080/",
          "height": 34
        },
        "outputId": "d541bbb6-3f41-42f0-935b-7661a2d79b7c"
      },
      "source": [
        "import re\n",
        "\n",
        "pattern = \"do you remember .*\"\n",
        "message = \"do you remember when you ate strawberries in the garden\"\n",
        "\n",
        "match = re.search(pattern,message)\n",
        "\n",
        "if match:\n",
        "  print(\"string matches\")\n"
      ],
      "execution_count": 17,
      "outputs": [
        {
          "output_type": "stream",
          "text": [
            "string matches\n"
          ],
          "name": "stdout"
        }
      ]
    },
    {
      "cell_type": "markdown",
      "metadata": {
        "id": "NN_zWVI140a4",
        "colab_type": "text"
      },
      "source": [
        "(.*) used to refer as a group, tears into parts according to the word-selected"
      ]
    },
    {
      "cell_type": "code",
      "metadata": {
        "id": "2yXr7JWK4DhM",
        "colab_type": "code",
        "colab": {
          "base_uri": "https://localhost:8080/",
          "height": 50
        },
        "outputId": "17ccf963-e492-4da9-ee54-de433bc37b50"
      },
      "source": [
        "pattern = \"if (.*)\"\n",
        "message = \"what would happen if bots take over the world\"\n",
        "\n",
        "match = re.search(pattern,message)\n",
        "\n",
        "if match:\n",
        "  print(\"string matches\")\n",
        "\n",
        "match.group(0)\n",
        "\n",
        "#match.group(1)"
      ],
      "execution_count": 20,
      "outputs": [
        {
          "output_type": "stream",
          "text": [
            "string matches\n"
          ],
          "name": "stdout"
        },
        {
          "output_type": "execute_result",
          "data": {
            "text/plain": [
              "'if bots take over the world'"
            ]
          },
          "metadata": {
            "tags": []
          },
          "execution_count": 20
        }
      ]
    },
    {
      "cell_type": "markdown",
      "metadata": {
        "id": "BbtlDZo-7jwE",
        "colab_type": "text"
      },
      "source": [
        "sub used for replacing the parts if involved"
      ]
    },
    {
      "cell_type": "code",
      "metadata": {
        "id": "yjT25bwG4vHA",
        "colab_type": "code",
        "colab": {
          "base_uri": "https://localhost:8080/",
          "height": 34
        },
        "outputId": "2ad6e853-970b-4994-d42c-8ce1c121c222"
      },
      "source": [
        "def swap_pronouns(phrase):\n",
        "  if 'I' in phrase:\n",
        "    return re.sub('I','You', phrase)\n",
        "  if 'my' in phrase:\n",
        "    return re.sub('my','your', phrase)\n",
        "  else:\n",
        "    return phrase\n",
        "\n",
        "swap_pronouns(\"I walk my dog\")"
      ],
      "execution_count": 22,
      "outputs": [
        {
          "output_type": "execute_result",
          "data": {
            "text/plain": [
              "'You walk my dog'"
            ]
          },
          "metadata": {
            "tags": []
          },
          "execution_count": 22
        }
      ]
    },
    {
      "cell_type": "code",
      "metadata": {
        "id": "5k11as4M7ysS",
        "colab_type": "code",
        "colab": {
          "base_uri": "https://localhost:8080/",
          "height": 195
        },
        "outputId": "f8198bac-f4c6-470e-f72f-8a6e8903eced"
      },
      "source": [
        "pattern = 'do you remember (.*)'\n",
        "message = \"do you remember when you ate strawberries in the garden\"\n",
        "\n",
        "phrase = re.search(pattern,message).group(1)\n",
        "\n",
        "#define a choose_response function to complete this cell\n",
        "#response=choose_response(pattern)\n",
        "\n",
        "phrase = swap_pronouns(phrase)\n",
        "\n",
        "response.format(phrase)"
      ],
      "execution_count": 27,
      "outputs": [
        {
          "output_type": "error",
          "ename": "NameError",
          "evalue": "ignored",
          "traceback": [
            "\u001b[0;31m---------------------------------------------------------------------------\u001b[0m",
            "\u001b[0;31mNameError\u001b[0m                                 Traceback (most recent call last)",
            "\u001b[0;32m<ipython-input-27-6c3750dfa897>\u001b[0m in \u001b[0;36m<module>\u001b[0;34m()\u001b[0m\n\u001b[1;32m      9\u001b[0m \u001b[0mphrase\u001b[0m \u001b[0;34m=\u001b[0m \u001b[0mswap_pronouns\u001b[0m\u001b[0;34m(\u001b[0m\u001b[0mphrase\u001b[0m\u001b[0;34m)\u001b[0m\u001b[0;34m\u001b[0m\u001b[0;34m\u001b[0m\u001b[0m\n\u001b[1;32m     10\u001b[0m \u001b[0;34m\u001b[0m\u001b[0m\n\u001b[0;32m---> 11\u001b[0;31m \u001b[0mresponse\u001b[0m\u001b[0;34m.\u001b[0m\u001b[0mformat\u001b[0m\u001b[0;34m(\u001b[0m\u001b[0mphrase\u001b[0m\u001b[0;34m)\u001b[0m\u001b[0;34m\u001b[0m\u001b[0;34m\u001b[0m\u001b[0m\n\u001b[0m",
            "\u001b[0;31mNameError\u001b[0m: name 'response' is not defined"
          ]
        }
      ]
    },
    {
      "cell_type": "code",
      "metadata": {
        "id": "hPn_G97g9lzY",
        "colab_type": "code",
        "colab": {
          "base_uri": "https://localhost:8080/",
          "height": 67
        },
        "outputId": "fbe64fc3-d9a7-4ddc-b4d1-506d37b9e1b7"
      },
      "source": [
        "def replace_pronouns(message):\n",
        "\n",
        "    message = message.lower()\n",
        "    if 'me' in message:\n",
        "        # Replace 'me' with 'you'\n",
        "        return re.sub('me','you',message)\n",
        "    if 'my' in message:\n",
        "        # Replace 'my' with 'your'\n",
        "        return re.sub('my','your',message)\n",
        "    if 'your' in message:\n",
        "        # Replace 'your' with 'my'\n",
        "        return re.sub('your','my',message)\n",
        "    if 'you' in message:\n",
        "        # Replace 'you' with 'me'\n",
        "        return re.sub('you','me',message)\n",
        "\n",
        "    return message\n",
        "\n",
        "print(replace_pronouns(\"my last birthday\"))\n",
        "print(replace_pronouns(\"when you went to Florida\"))\n",
        "print(replace_pronouns(\"I had my own castle\"))"
      ],
      "execution_count": 28,
      "outputs": [
        {
          "output_type": "stream",
          "text": [
            "your last birthday\n",
            "when me went to florida\n",
            "i had your own castle\n"
          ],
          "name": "stdout"
        }
      ]
    },
    {
      "cell_type": "code",
      "metadata": {
        "id": "EPcmYwyOFRmY",
        "colab_type": "code",
        "colab": {
          "base_uri": "https://localhost:8080/",
          "height": 229
        },
        "outputId": "a4cd993d-09c8-4b67-9b0d-abfe62498536"
      },
      "source": [
        "# Define respond()\n",
        "def respond(message):\n",
        "    # Call match_rule\n",
        "    response, phrase = match_rule(rules,message)\n",
        "    if '{0}' in response:\n",
        "        # Replace the pronouns in the phrase\n",
        "        phrase = replace_pronouns(phrase)\n",
        "        # Include the phrase in the response\n",
        "        response = response.format(phrase)\n",
        "    return response\n",
        "\n",
        "# Send the messages\n",
        "send_message(\"do you remember your last birthday\")\n",
        "send_message(\"do you think humans should be worried about AI\")\n",
        "send_message(\"I want a robot friend\")\n",
        "send_message(\"what if you could be anything you wanted\")"
      ],
      "execution_count": 29,
      "outputs": [
        {
          "output_type": "error",
          "ename": "NameError",
          "evalue": "ignored",
          "traceback": [
            "\u001b[0;31m---------------------------------------------------------------------------\u001b[0m",
            "\u001b[0;31mNameError\u001b[0m                                 Traceback (most recent call last)",
            "\u001b[0;32m<ipython-input-29-93066402cf78>\u001b[0m in \u001b[0;36m<module>\u001b[0;34m()\u001b[0m\n\u001b[1;32m     10\u001b[0m \u001b[0;34m\u001b[0m\u001b[0m\n\u001b[1;32m     11\u001b[0m \u001b[0;31m# Send the messages\u001b[0m\u001b[0;34m\u001b[0m\u001b[0;34m\u001b[0m\u001b[0;34m\u001b[0m\u001b[0m\n\u001b[0;32m---> 12\u001b[0;31m \u001b[0msend_message\u001b[0m\u001b[0;34m(\u001b[0m\u001b[0;34m\"do you remember your last birthday\"\u001b[0m\u001b[0;34m)\u001b[0m\u001b[0;34m\u001b[0m\u001b[0;34m\u001b[0m\u001b[0m\n\u001b[0m\u001b[1;32m     13\u001b[0m \u001b[0msend_message\u001b[0m\u001b[0;34m(\u001b[0m\u001b[0;34m\"do you think humans should be worried about AI\"\u001b[0m\u001b[0;34m)\u001b[0m\u001b[0;34m\u001b[0m\u001b[0;34m\u001b[0m\u001b[0m\n\u001b[1;32m     14\u001b[0m \u001b[0msend_message\u001b[0m\u001b[0;34m(\u001b[0m\u001b[0;34m\"I want a robot friend\"\u001b[0m\u001b[0;34m)\u001b[0m\u001b[0;34m\u001b[0m\u001b[0;34m\u001b[0m\u001b[0m\n",
            "\u001b[0;31mNameError\u001b[0m: name 'send_message' is not defined"
          ]
        }
      ]
    },
    {
      "cell_type": "code",
      "metadata": {
        "id": "mMX4d-qmFUfX",
        "colab_type": "code",
        "colab": {}
      },
      "source": [
        ""
      ],
      "execution_count": 0,
      "outputs": []
    }
  ]
}